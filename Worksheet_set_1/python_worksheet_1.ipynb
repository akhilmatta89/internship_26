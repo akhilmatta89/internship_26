{
 "cells": [
  {
   "cell_type": "markdown",
   "id": "f0263559",
   "metadata": {},
   "source": [
    "Write a python program to find the factorial of a number."
   ]
  },
  {
   "cell_type": "code",
   "execution_count": 3,
   "id": "9c55de22",
   "metadata": {},
   "outputs": [
    {
     "data": {
      "text/plain": [
       "120"
      ]
     },
     "execution_count": 3,
     "metadata": {},
     "output_type": "execute_result"
    }
   ],
   "source": [
    "import math\n",
    "def find_factorial(number):\n",
    "    return math.factorial(number)\n",
    "find_factorial(5)"
   ]
  },
  {
   "cell_type": "markdown",
   "id": "96dc34be",
   "metadata": {},
   "source": [
    "Write a python program to find whether a number is prime or composite."
   ]
  },
  {
   "cell_type": "code",
   "execution_count": 8,
   "id": "500b589f",
   "metadata": {},
   "outputs": [
    {
     "name": "stdout",
     "output_type": "stream",
     "text": [
      "3 is prime but not composite\n",
      "2 is prime but not composite\n",
      "please enter positive number\n",
      "4 is not prime but composite number\n"
     ]
    }
   ],
   "source": [
    "def find_prime_or_composite(number):\n",
    "    if (number==0 or number==1):\n",
    "        print(f\"{number} is neither prime nor composite\")\n",
    "    elif number>1:\n",
    "        for i in range(2, number):\n",
    "            if (number%i == 0):\n",
    "                print(f\"{number} is not prime but composite number\")\n",
    "                break\n",
    "        else:\n",
    "            print(f\"{number} is prime but not composite\")\n",
    "    else:\n",
    "        print(\"please enter positive number\")\n",
    "find_prime_or_composite(3)\n",
    "find_prime_or_composite(2)\n",
    "find_prime_or_composite(-1)\n",
    "find_prime_or_composite(4)"
   ]
  },
  {
   "cell_type": "markdown",
   "id": "b61171be",
   "metadata": {},
   "source": [
    "Write a python program to check whether a given string is palindrome or not"
   ]
  },
  {
   "cell_type": "code",
   "execution_count": 10,
   "id": "11fd2b35",
   "metadata": {},
   "outputs": [
    {
     "name": "stdout",
     "output_type": "stream",
     "text": [
      "hello is not a palindrome\n",
      "radar is palindrome\n"
     ]
    }
   ],
   "source": [
    "def chck_palindrome(strng):\n",
    "    return f\"{strng} is palindrome\" if strng == strng[::-1] else f\"{strng} is not a palindrome\"\n",
    "a = chck_palindrome('hello')\n",
    "print(a)\n",
    "b = chck_palindrome('radar')\n",
    "print(b)"
   ]
  },
  {
   "cell_type": "markdown",
   "id": "6475909b",
   "metadata": {},
   "source": [
    "Write a Python program to get the third side of right-angled triangle from two given sides"
   ]
  },
  {
   "cell_type": "code",
   "execution_count": 12,
   "id": "5c25c6fd",
   "metadata": {},
   "outputs": [
    {
     "name": "stdout",
     "output_type": "stream",
     "text": [
      "Hypotenuse = 2.6457513110645907\n",
      "Adjacent = (1.6200554372175822e-16+2.6457513110645907j)\n",
      "Opposite = (1.6200554372175822e-16+2.6457513110645907j)\n"
     ]
    }
   ],
   "source": [
    "def fnd_thrd_sde_trngle(opposite_side, adjacent_side, hypotenuse):\n",
    "    \"\"\"This method returns the reamining side of traiangle if you provide any of 2 sides\n",
    "    3 parameters allowed\n",
    "    1.opposite side\n",
    "    2.adjacent side\n",
    "    3. hypotenuse\"\"\"\n",
    "    if opposite_side == str('x'):\n",
    "        return ('Opposite = ' + str(((hypotenuse**2) - (adjacent_side**2))**0.5))\n",
    "    elif adjacent_side == str('x'):\n",
    "        return ('Adjacent = '+str(((hypotenuse**2) - (opposite_side**2))**0.5))\n",
    "    elif hypotenuse == str('x'):\n",
    "        return ('Hypotenuse = '+str(((opposite_side**2) - (adjacent_side**2))**0.5))\n",
    "    else:\n",
    "        return('you provided all three inputs')\n",
    "print(fnd_thrd_sde_trngle(4,3,'x'))\n",
    "print(fnd_thrd_sde_trngle(4,'x',3))\n",
    "print(fnd_thrd_sde_trngle('x',4,3))"
   ]
  },
  {
   "cell_type": "markdown",
   "id": "bc58df43",
   "metadata": {},
   "source": [
    "Write a python program to print the frequency of each of the characters present in a given string."
   ]
  },
  {
   "cell_type": "code",
   "execution_count": 14,
   "id": "e7171475",
   "metadata": {},
   "outputs": [
    {
     "name": "stdout",
     "output_type": "stream",
     "text": [
      "The frequency of s in sgfviuskhzoviljwnsoilvjnkl is 3\n"
     ]
    }
   ],
   "source": [
    "def fnd_frqncy_of_wrd_in_string(strng, character):\n",
    "    count=0\n",
    "    for i in range(len(strng)):\n",
    "        if(strng[i] == character):\n",
    "            count = count+1\n",
    "    print(f\"The frequency of {character} in {strng} is {count}\")\n",
    "fnd_frqncy_of_wrd_in_string('sgfviuskhzoviljwnsoilvjnkl', 's')"
   ]
  },
  {
   "cell_type": "code",
   "execution_count": null,
   "id": "4a14cc80",
   "metadata": {},
   "outputs": [],
   "source": []
  }
 ],
 "metadata": {
  "kernelspec": {
   "display_name": "Python 3",
   "language": "python",
   "name": "python3"
  },
  "language_info": {
   "codemirror_mode": {
    "name": "ipython",
    "version": 3
   },
   "file_extension": ".py",
   "mimetype": "text/x-python",
   "name": "python",
   "nbconvert_exporter": "python",
   "pygments_lexer": "ipython3",
   "version": "3.8.8"
  }
 },
 "nbformat": 4,
 "nbformat_minor": 5
}
