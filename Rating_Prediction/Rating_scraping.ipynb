{
 "cells": [
  {
   "cell_type": "code",
   "execution_count": 1,
   "id": "b4ca8624",
   "metadata": {},
   "outputs": [
    {
     "data": {
      "text/html": [
       "<style>.container { width:100% !important; }</style>"
      ],
      "text/plain": [
       "<IPython.core.display.HTML object>"
      ]
     },
     "metadata": {},
     "output_type": "display_data"
    }
   ],
   "source": [
    "#IMPORTING LIBRARIES\n",
    "import selenium\n",
    "import pandas as pd\n",
    "from selenium import webdriver\n",
    "import warnings\n",
    "warnings.filterwarnings('ignore')\n",
    "import time\n",
    "from selenium.webdriver.chrome.options import Options\n",
    "chrome_options = Options()\n",
    "from selenium.common.exceptions import NoSuchElementException\n",
    "from selenium.webdriver.support.ui import WebDriverWait\n",
    "from selenium.webdriver.support import expected_conditions as EC\n",
    "from selenium.webdriver.common.by import By\n",
    "from selenium.webdriver.common.keys import Keys\n",
    "from bs4 import BeautifulSoup\n",
    "from selenium.webdriver.common.by import By\n",
    "from selenium.webdriver.support.ui import Select\n",
    "import numpy as np\n",
    "from IPython.display import display, HTML\n",
    "display(HTML(\"<style>.container { width:100% !important; }</style>\"))\n",
    "import pandas as pd"
   ]
  },
  {
   "cell_type": "markdown",
   "id": "82538e7e",
   "metadata": {},
   "source": [
    "# RATINGS PREDICTION\n",
    "    We have a client who has a website where people write different reviews for technical products. \n",
    "    Now they are adding a new feature to their website i.e. The reviewer will have to add stars(rating) \n",
    "    as well with the review. The rating is out 5 stars and it only has 5 options available 1 star, 2 stars, \n",
    "    3 stars, 4 stars, 5 stars. Now they want to predict ratings for the reviews which were written in the \n",
    "    past and they don’t have a rating. So, we have to build an application which can predict the rating \n",
    "    by seeing the review.\n",
    "    Data Collection Phase \n",
    "    You have to scrape at least 20000 rows of data. You can scrape more data as well, it’s up to you. \n",
    "    more the data better the model\n",
    "    In this section you need to scrape the reviews of different laptops, Phones, Headphones, smart \n",
    "    watches, Professional Cameras, Printers, Monitors, Home theater, Router from different e\u0002commerce websites.\n",
    "    Basically, we need these columns-\n",
    "        - reviews of the product.\n",
    "        - rating of the product.\n",
    "    You can fetch other data as well, if you think data can be useful or can help in the project. It \n",
    "    completely depends on your imagination or assumption.\n",
    "    Hint:\n",
    "        - Try to fetch data from different websites. If data is from different websites, it will help our \n",
    "            model to remove the effect of over fitting.\n",
    "        - Try to fetch an equal number of reviews for each rating, for example if you are fetching\n",
    "            10000 reviews then all ratings 1,2,3,4,5 should be 2000. It will balance our data set.\n",
    "        - Convert all the ratings to their round number, as there are only 5 options for rating i.e., \n",
    "            1,2,3,4,5. If a rating is 4.5 convert it 5."
   ]
  },
  {
   "cell_type": "code",
   "execution_count": 24,
   "id": "62959ace",
   "metadata": {},
   "outputs": [],
   "source": [
    "driver = webdriver.Chrome(executable_path=r'/Users/akhilmatta/chromedriver', chrome_options=chrome_options)\n",
    "#Loading the flipkart phones URL\n",
    "driver.get('https://www.flipkart.com/')\n",
    "driver.find_element_by_xpath('/html/body/div[2]/div/div/button').click()\n",
    "item_search = driver.find_element_by_class_name('_3704LK')\n",
    "item_search.send_keys('laptops')\n",
    "button= driver.find_element_by_class_name('_34RNph')\n",
    "button.click()\n",
    "time.sleep(3)"
   ]
  },
  {
   "cell_type": "code",
   "execution_count": 25,
   "id": "844d5189",
   "metadata": {},
   "outputs": [],
   "source": [
    "urls = []\n",
    "all_products = driver.find_elements_by_xpath(\"//div[@class='_2kHMtA']\")\n",
    "for product in all_products:\n",
    "    product_feature = product.find_element_by_tag_name('a')\n",
    "    urls.append(product_feature.get_attribute('href'))"
   ]
  },
  {
   "cell_type": "code",
   "execution_count": 26,
   "id": "6ed1d081",
   "metadata": {},
   "outputs": [
    {
     "data": {
      "text/plain": [
       "24"
      ]
     },
     "execution_count": 26,
     "metadata": {},
     "output_type": "execute_result"
    }
   ],
   "source": [
    "len(urls)"
   ]
  },
  {
   "cell_type": "code",
   "execution_count": 33,
   "id": "68549f6e",
   "metadata": {},
   "outputs": [
    {
     "name": "stdout",
     "output_type": "stream",
     "text": [
      "https://www.flipkart.com/lenovo-ideapad-slim-5-ryzen-7-octa-core-4700u-8-gb-512-gb-ssd-windows-10-home-14are05-thin-light-laptop/p/itm74bdb1c4b2516?pid=COMFXVAS6FYXYMHW&lid=LSTCOMFXVAS6FYXYMHWII0UO7&marketplace=FLIPKART&q=laptops&store=6bo%2Fb5g&srno=s_1_1&otracker=search&otracker1=search&fm=organic&iid=en_0g2G9d%2Bx%2F%2B2OzPQt92JXPyS5%2BdLJX7qXP5JjvA7Tg8wMRnf4a2aDqIGOU%2Bsc3gVmkuo1160KGhbRtUWsITpSmA%3D%3D&ppt=hp&ppn=homepage&ssid=cc0jcreoc00000001659366223712&qH=c06ea84a1e3dc3c6\n",
      "https://www.flipkart.com/lenovo-ideapad-ryzen-5-hexa-core-5500u-8-gb-512-gb-ssd-windows-11-home-3-14alc6ub-thin-light-laptop/p/itm793c29c5db367?pid=COMG99KMN9BS6C7Z&lid=LSTCOMG99KMN9BS6C7ZWV0HIF&marketplace=FLIPKART&q=laptops&store=6bo%2Fb5g&srno=s_1_2&otracker=search&otracker1=search&fm=organic&iid=en_0g2G9d%2Bx%2F%2B2OzPQt92JXPyS5%2BdLJX7qXP5JjvA7Tg8ydl8l1JLKCjK6wXtPgs8fNI%2BQW7h8APSnuTTqwFx5FUg%3D%3D&ppt=hp&ppn=homepage&ssid=cc0jcreoc00000001659366223712&qH=c06ea84a1e3dc3c6\n",
      "https://www.flipkart.com/lenovo-ideapad-1-ryzen-3-dual-core-3250u-8-gb-512-gb-ssd-windows-11-home-15ada7-thin-light-laptop/p/itm3d18297fc081a?pid=COMGFM5BYHQPXCRZ&lid=LSTCOMGFM5BYHQPXCRZETCJ1Z&marketplace=FLIPKART&q=laptops&store=6bo%2Fb5g&srno=s_1_3&otracker=search&otracker1=search&fm=organic&iid=c9ee61bd-d915-494a-8d09-f9e708d4d97e.COMGFM5BYHQPXCRZ.SEARCH&ppt=hp&ppn=homepage&ssid=cc0jcreoc00000001659366223712&qH=c06ea84a1e3dc3c6\n",
      "https://www.flipkart.com/lenovo-ideapad-3-core-i3-11th-gen-8-gb-512-gb-ssd-windows-11-home-82h801l7in-82h802fjin-82h802l3in-82h801lhin-thin-light-laptop/p/itm0e009f57a591b?pid=COMG9VHHG6Q3RRJX&lid=LSTCOMG9VHHG6Q3RRJXQHPK6Q&marketplace=FLIPKART&q=laptops&store=6bo%2Fb5g&srno=s_1_4&otracker=search&otracker1=search&fm=organic&iid=c9ee61bd-d915-494a-8d09-f9e708d4d97e.COMG9VHHG6Q3RRJX.SEARCH&ppt=hp&ppn=homepage&ssid=cc0jcreoc00000001659366223712&qH=c06ea84a1e3dc3c6\n",
      "https://www.flipkart.com/hp-core-i3-11th-gen-8-gb-512-gb-ssd-windows-11-home-14s-dq2606tu-thin-light-laptop/p/itm0b19e546c47d9?pid=COMGCGSTN9R4WPQV&lid=LSTCOMGCGSTN9R4WPQV76TNJK&marketplace=FLIPKART&q=laptops&store=6bo%2Fb5g&srno=s_1_5&otracker=search&otracker1=search&fm=organic&iid=c9ee61bd-d915-494a-8d09-f9e708d4d97e.COMGCGSTN9R4WPQV.SEARCH&ppt=hp&ppn=homepage&ssid=cc0jcreoc00000001659366223712&qH=c06ea84a1e3dc3c6\n",
      "https://www.flipkart.com/lenovo-core-i3-10th-gen-8-gb-1-tb-hdd-windows-11-home-81wb018uin-81wb01e7in-thin-light-laptop/p/itmc44eabad57a96?pid=COMG9VHHHUJWMFR2&lid=LSTCOMG9VHHHUJWMFR2MQ7DUK&marketplace=FLIPKART&q=laptops&store=6bo%2Fb5g&srno=s_1_6&otracker=search&otracker1=search&fm=organic&iid=c9ee61bd-d915-494a-8d09-f9e708d4d97e.COMG9VHHHUJWMFR2.SEARCH&ppt=hp&ppn=homepage&ssid=cc0jcreoc00000001659366223712&qH=c06ea84a1e3dc3c6\n",
      "https://www.flipkart.com/hp-ryzen-3-dual-core-3250u-8-gb-256-gb-ssd-windows-11-home-15s-gy0501au-thin-light-laptop/p/itmcc3db7767aba4?pid=COMG6MVEA2PWVH3B&lid=LSTCOMG6MVEA2PWVH3BJ8QBY0&marketplace=FLIPKART&q=laptops&store=6bo%2Fb5g&srno=s_1_7&otracker=search&otracker1=search&fm=organic&iid=c9ee61bd-d915-494a-8d09-f9e708d4d97e.COMG6MVEA2PWVH3B.SEARCH&ppt=hp&ppn=homepage&ssid=cc0jcreoc00000001659366223712&qH=c06ea84a1e3dc3c6\n",
      "https://www.flipkart.com/lenovo-ideapad-ryzen-5-hexa-core-5500u-8-gb-512-gb-ssd-windows-10-home-15alc05-thin-light-laptop/p/itmb40d8df64d9d1?pid=COMG5UZBFZVTYRFN&lid=LSTCOMG5UZBFZVTYRFNCVGBQG&marketplace=FLIPKART&q=laptops&store=6bo%2Fb5g&srno=s_1_8&otracker=search&otracker1=search&fm=organic&iid=en_0g2G9d%2Bx%2F%2B2OzPQt92JXPyS5%2BdLJX7qXP5JjvA7Tg8xMUPP1jwGeXpTebHwwzjM6LM4HyE7Qyrah%2BNr7tip6uA%3D%3D&ppt=hp&ppn=homepage&ssid=cc0jcreoc00000001659366223712&qH=c06ea84a1e3dc3c6\n",
      "https://www.flipkart.com/hp-core-i3-11th-gen-8-gb-256-gb-ssd-windows-11-home-14s-dy2506tu-thin-light-laptop/p/itm6e9f19b41d9c9?pid=COMG92FXHPYEN44H&lid=LSTCOMG92FXHPYEN44HKXQR8G&marketplace=FLIPKART&q=laptops&store=6bo%2Fb5g&srno=s_1_9&otracker=search&otracker1=search&fm=organic&iid=c9ee61bd-d915-494a-8d09-f9e708d4d97e.COMG92FXHPYEN44H.SEARCH&ppt=hp&ppn=homepage&ssid=cc0jcreoc00000001659366223712&qH=c06ea84a1e3dc3c6\n",
      "https://www.flipkart.com/asus-vivobook-15-2022-core-i3-10th-gen-8-gb-512-gb-ssd-windows-11-home-x515ja-ej362ws-thin-light-laptop/p/itm8ce53e6fb58bf?pid=COMG87FFPEDAAGXW&lid=LSTCOMG87FFPEDAAGXWTMCIPI&marketplace=FLIPKART&q=laptops&store=6bo%2Fb5g&srno=s_1_10&otracker=search&otracker1=search&fm=organic&iid=c9ee61bd-d915-494a-8d09-f9e708d4d97e.COMG87FFPEDAAGXW.SEARCH&ppt=hp&ppn=homepage&ssid=cc0jcreoc00000001659366223712&qH=c06ea84a1e3dc3c6\n",
      "https://www.flipkart.com/lenovo-ideapad-3-core-i3-10th-gen-8-gb-256-gb-ssd-windows-11-home-15iml05-thin-light-laptop/p/itmd1871bfcde765?pid=COMG6AKVAHWTHAQG&lid=LSTCOMG6AKVAHWTHAQGXUICJF&marketplace=FLIPKART&q=laptops&store=6bo%2Fb5g&srno=s_1_11&otracker=search&otracker1=search&fm=organic&iid=c9ee61bd-d915-494a-8d09-f9e708d4d97e.COMG6AKVAHWTHAQG.SEARCH&ppt=hp&ppn=homepage&ssid=cc0jcreoc00000001659366223712&qH=c06ea84a1e3dc3c6\n",
      "https://www.flipkart.com/msi-pulse-gl66-core-i7-11th-gen-16-gb-1-tb-ssd-windows-10-home-8-gb-graphics-nvidia-geforce-rtx-3070-11ugk-431in-gaming-laptop/p/itm9eaffcc31a058?pid=COMG6E8PV7JC3SMM&lid=LSTCOMG6E8PV7JC3SMMVHYKEI&marketplace=FLIPKART&q=laptops&store=6bo%2Fb5g&srno=s_1_12&otracker=search&otracker1=search&fm=organic&iid=en_0g2G9d%2Bx%2F%2B2OzPQt92JXPyS5%2BdLJX7qXP5JjvA7Tg8wsAyoMMARIEH4%2B21MQkU9Esmqf8pvYHN4Qhk9NqIDr1A%3D%3D&ppt=hp&ppn=homepage&ssid=cc0jcreoc00000001659366223712&qH=c06ea84a1e3dc3c6\n",
      "https://www.flipkart.com/lenovo-ideapad-3-core-i5-11th-gen-8-gb-512-gb-ssd-windows-10-home-15itl6-thin-light-laptop/p/itm019d07e14a431?pid=COMG6AKVCAGQZBW8&lid=LSTCOMG6AKVCAGQZBW8AV9128&marketplace=FLIPKART&q=laptops&store=6bo%2Fb5g&srno=s_1_13&otracker=search&otracker1=search&fm=organic&iid=c9ee61bd-d915-494a-8d09-f9e708d4d97e.COMG6AKVCAGQZBW8.SEARCH&ppt=hp&ppn=homepage&ssid=cc0jcreoc00000001659366223712&qH=c06ea84a1e3dc3c6\n",
      "https://www.flipkart.com/infinix-inbook-x1-neo-series-celeron-quad-core-8-gb-256-gb-ssd-windows-11-home-xl22-thin-light-laptop/p/itma33ea8c5bd8a4?pid=COMGG3S9DVFEZAFC&lid=LSTCOMGG3S9DVFEZAFCVG3CSR&marketplace=FLIPKART&q=laptops&store=6bo%2Fb5g&srno=s_1_14&otracker=search&otracker1=search&fm=organic&iid=c9ee61bd-d915-494a-8d09-f9e708d4d97e.COMGG3S9DVFEZAFC.SEARCH&ppt=hp&ppn=homepage&ssid=cc0jcreoc00000001659366223712&qH=c06ea84a1e3dc3c6\n",
      "https://www.flipkart.com/asus-tuf-gaming-f15-core-i5-10th-gen-8-gb-512-gb-ssd-windows-11-home-4-graphics-nvidia-geforce-gtx-1650-144-hz-fx506lhb-hn358w-laptop/p/itm4d930ab779cbd?pid=COMGF9Z7JYCFBKAP&lid=LSTCOMGF9Z7JYCFBKAPXYET0O&marketplace=FLIPKART&q=laptops&store=6bo%2Fb5g&srno=s_1_15&otracker=search&otracker1=search&fm=organic&iid=c9ee61bd-d915-494a-8d09-f9e708d4d97e.COMGF9Z7JYCFBKAP.SEARCH&ppt=hp&ppn=homepage&ssid=cc0jcreoc00000001659366223712&qH=c06ea84a1e3dc3c6\n",
      "https://www.flipkart.com/asus-vivobook-ultra-14-2022-core-i5-11th-gen-16-gb-512-gb-ssd-windows-11-home-x413ea-eb532ws-thin-light-laptop/p/itmf6445e8ebf133?pid=COMG87FFYEZW7ZRC&lid=LSTCOMG87FFYEZW7ZRCPD6GGV&marketplace=FLIPKART&q=laptops&store=6bo%2Fb5g&srno=s_1_16&otracker=search&otracker1=search&fm=organic&iid=c9ee61bd-d915-494a-8d09-f9e708d4d97e.COMG87FFYEZW7ZRC.SEARCH&ppt=hp&ppn=homepage&ssid=cc0jcreoc00000001659366223712&qH=c06ea84a1e3dc3c6\n",
      "https://www.flipkart.com/asus-vivobook-15-2022-core-i3-10th-gen-8-gb-512-gb-ssd-windows-11-home-x515ja-bq322ws-thin-light-laptop/p/itm6bb4edeb57b75?pid=COMGB6DZBWCDEXXA&lid=LSTCOMGB6DZBWCDEXXAMHCEBC&marketplace=FLIPKART&q=laptops&store=6bo%2Fb5g&srno=s_1_17&otracker=search&otracker1=search&fm=organic&iid=c9ee61bd-d915-494a-8d09-f9e708d4d97e.COMGB6DZBWCDEXXA.SEARCH&ppt=hp&ppn=homepage&ssid=cc0jcreoc00000001659366223712&qH=c06ea84a1e3dc3c6\n",
      "https://www.flipkart.com/lenovo-ideapad-gaming-core-i5-11th-gen-8-gb-512-gb-ssd-windows-11-home-4-graphics-nvidia-geforce-gtx-1650-15ihu6-laptop/p/itm264d36eb418a0?pid=COMGFM5BFZHDDB4R&lid=LSTCOMGFM5BFZHDDB4RSEPODX&marketplace=FLIPKART&q=laptops&store=6bo%2Fb5g&srno=s_1_18&otracker=search&otracker1=search&fm=organic&iid=c9ee61bd-d915-494a-8d09-f9e708d4d97e.COMGFM5BFZHDDB4R.SEARCH&ppt=hp&ppn=homepage&ssid=cc0jcreoc00000001659366223712&qH=c06ea84a1e3dc3c6\n",
      "https://www.flipkart.com/lenovo-core-i3-10th-gen-8-gb-512-gb-ssd-windows-11-home-15iml05-thin-light-laptop/p/itmab4180a00a50b?pid=COMG9VHHUTKFZFMU&lid=LSTCOMG9VHHUTKFZFMUPSETKX&marketplace=FLIPKART&q=laptops&store=6bo%2Fb5g&spotlightTagId=BestsellerId_6bo%2Fb5g&srno=s_1_19&otracker=search&otracker1=search&fm=organic&iid=c9ee61bd-d915-494a-8d09-f9e708d4d97e.COMG9VHHUTKFZFMU.SEARCH&ppt=hp&ppn=homepage&ssid=cc0jcreoc00000001659366223712&qH=c06ea84a1e3dc3c6\n"
     ]
    },
    {
     "name": "stdout",
     "output_type": "stream",
     "text": [
      "https://www.flipkart.com/hp-notebook-pc-core-i3-11th-gen-8-gb-1-tb-hdd-windows-10-g8-240-thin-light-laptop/p/itm1414fc9733bf6?pid=COMG9XUYCGWGHZTA&lid=LSTCOMG9XUYCGWGHZTAZAHNZS&marketplace=FLIPKART&q=laptops&store=6bo%2Fb5g&srno=s_1_20&otracker=search&otracker1=search&fm=organic&iid=c9ee61bd-d915-494a-8d09-f9e708d4d97e.COMG9XUYCGWGHZTA.SEARCH&ppt=hp&ppn=homepage&ssid=cc0jcreoc00000001659366223712&qH=c06ea84a1e3dc3c6\n",
      "https://www.flipkart.com/lenovo-ideapad-3-core-i3-11th-gen-8-gb-256-gb-ssd-windows-11-home-14itl05-thin-light-laptop/p/itme5d4463121c64?pid=COMG9VKERHP4FACH&lid=LSTCOMG9VKERHP4FACHOL4YVH&marketplace=FLIPKART&q=laptops&store=6bo%2Fb5g&srno=s_1_21&otracker=search&otracker1=search&fm=organic&iid=c9ee61bd-d915-494a-8d09-f9e708d4d97e.COMG9VKERHP4FACH.SEARCH&ppt=hp&ppn=homepage&ssid=cc0jcreoc00000001659366223712&qH=c06ea84a1e3dc3c6\n",
      "https://www.flipkart.com/lenovo-ideapad-3-celeron-dual-core-4th-gen-4-gb-256-gb-ssd-windows-11-home-14igl05-thin-light-laptop/p/itm4d62502cabd77?pid=COMG72M9XXDCHEQZ&lid=LSTCOMG72M9XXDCHEQZEEJKYU&marketplace=FLIPKART&q=laptops&store=6bo%2Fb5g&srno=s_1_22&otracker=search&otracker1=search&fm=organic&iid=c9ee61bd-d915-494a-8d09-f9e708d4d97e.COMG72M9XXDCHEQZ.SEARCH&ppt=hp&ppn=homepage&ssid=cc0jcreoc00000001659366223712&qH=c06ea84a1e3dc3c6\n",
      "https://www.flipkart.com/hp-core-i3-11th-gen-8-gb-512-gb-ssd-windows-11-home-15s-fr2508tu-laptop/p/itm951493c4816de?pid=COMGBH9J4BCHZGED&lid=LSTCOMGBH9J4BCHZGED56YDUH&marketplace=FLIPKART&q=laptops&store=6bo%2Fb5g&srno=s_1_23&otracker=search&otracker1=search&fm=organic&iid=c9ee61bd-d915-494a-8d09-f9e708d4d97e.COMGBH9J4BCHZGED.SEARCH&ppt=hp&ppn=homepage&ssid=cc0jcreoc00000001659366223712&qH=c06ea84a1e3dc3c6\n",
      "https://www.flipkart.com/infinix-inbook-x1-neo-series-celeron-quad-core-8-gb-256-gb-ssd-windows-11-home-xl22-thin-light-laptop/p/itm83e1c68ae336a?pid=COMGG3S9XZV4PWHB&lid=LSTCOMGG3S9XZV4PWHB7QYYCQ&marketplace=FLIPKART&q=laptops&store=6bo%2Fb5g&srno=s_1_24&otracker=search&otracker1=search&fm=organic&iid=c9ee61bd-d915-494a-8d09-f9e708d4d97e.COMGG3S9XZV4PWHB.SEARCH&ppt=hp&ppn=homepage&ssid=cc0jcreoc00000001659366223712&qH=c06ea84a1e3dc3c6\n"
     ]
    }
   ],
   "source": [
    "#creating empty lists\n",
    "review_comments = []\n",
    "ratings = []\n",
    "for each in urls:\n",
    "    # Getting the particular page link\n",
    "    try:\n",
    "        driver.get(each)\n",
    "        print(each)\n",
    "        try:\n",
    "            plus_reviews_bar = driver.find_element_by_xpath('//div[@class=\"col JOpGWq\"]/a').get_attribute('href')\n",
    "            driver.get(plus_reviews_bar)\n",
    "        except Exception as ex:\n",
    "            pass\n",
    "        for i in range(1,150):\n",
    "            try:\n",
    "                parent_tag = driver.find_element_by_xpath(\"//div[@class='_1YokD2 _3Mn1Gg col-9-12']\")\n",
    "                child_tags = parent_tag.find_elements_by_xpath(\"//div/div[@class='_27M-vq']\")\n",
    "                for i in child_tags:\n",
    "                    review_comments.append(i.find_element_by_class_name('t-ZTKy').text)\n",
    "                    exct_rtng = i.text[0]\n",
    "\n",
    "                    if exct_rtng.endswith('.5'):\n",
    "                        exct_rtng = str(int(exct_rtng)+0.5)\n",
    "                        ratings.append(exct_rtng)\n",
    "                    ratings.append(exct_rtng)\n",
    "            except Exception as ex:\n",
    "                pass\n",
    "            try:\n",
    "                driver.find_element_by_xpath(\"/html/body/div[1]/div/div[3]/div/div/div[2]/div[13]/div/div/nav/a[8]/span\").click()\n",
    "            except:\n",
    "                try:\n",
    "                    driver.find_element_by_xpath(\"/html/body/div[1]/div/div[3]/div/div/div[2]/div[13]/div/div/nav/a[9]/span\").click()\n",
    "                except Exception as ex:\n",
    "                    pass\n",
    "    except NoSuchElementException:\n",
    "        break\n",
    "\n",
    "driver.close()"
   ]
  },
  {
   "cell_type": "code",
   "execution_count": 38,
   "id": "6eba34a4",
   "metadata": {},
   "outputs": [],
   "source": [
    "flip_cart_lappy_comments = review_comments\n",
    "flip_cart_lappy_ratings = ratings"
   ]
  },
  {
   "cell_type": "code",
   "execution_count": 39,
   "id": "a666e41c",
   "metadata": {},
   "outputs": [],
   "source": [
    "driver.close()"
   ]
  },
  {
   "cell_type": "markdown",
   "id": "9ee028f7",
   "metadata": {},
   "source": [
    "#### Fetching Headphones Data"
   ]
  },
  {
   "cell_type": "code",
   "execution_count": 44,
   "id": "2704e02d",
   "metadata": {},
   "outputs": [],
   "source": [
    "driver = webdriver.Chrome(executable_path=r'/Users/akhilmatta/chromedriver', chrome_options=chrome_options)\n",
    "#Loading the flipkart phones URL\n",
    "driver.get('https://www.flipkart.com/')\n",
    "driver.find_element_by_xpath('/html/body/div[2]/div/div/button').click()\n",
    "item_search = driver.find_element_by_class_name('_3704LK')\n",
    "item_search.send_keys('Phones')\n",
    "button= driver.find_element_by_class_name('_34RNph')\n",
    "button.click()\n",
    "time.sleep(3)"
   ]
  },
  {
   "cell_type": "code",
   "execution_count": 45,
   "id": "de69550c",
   "metadata": {},
   "outputs": [],
   "source": [
    "urls = []\n",
    "all_products = driver.find_elements_by_xpath(\"//div[@class='_2kHMtA']\")\n",
    "for product in all_products:\n",
    "    product_feature = product.find_element_by_tag_name('a')\n",
    "    urls.append(product_feature.get_attribute('href'))"
   ]
  },
  {
   "cell_type": "code",
   "execution_count": 46,
   "id": "df5c3bfe",
   "metadata": {},
   "outputs": [
    {
     "data": {
      "text/plain": [
       "24"
      ]
     },
     "execution_count": 46,
     "metadata": {},
     "output_type": "execute_result"
    }
   ],
   "source": [
    "len(urls)"
   ]
  },
  {
   "cell_type": "code",
   "execution_count": 47,
   "id": "b50638be",
   "metadata": {},
   "outputs": [
    {
     "name": "stdout",
     "output_type": "stream",
     "text": [
      "https://www.flipkart.com/samsung-galaxy-f22-denim-black-64-gb/p/itm6f47a19cb79ae?pid=MOBG43UGC3PYCBZF&lid=LSTMOBG43UGC3PYCBZFSIRYTE&marketplace=FLIPKART&q=Phones&store=search.flipkart.com%2Ftyy%2F4io&srno=s_1_1&otracker=search&otracker1=search&fm=organic&iid=99f454cc-7085-457c-a786-7a7ac085e04a.MOBG43UGC3PYCBZF.SEARCH&ppt=hp&ppn=homepage&ssid=xyifss3tpc0000001659368783443&qH=a7ad04a90c423648\n",
      "https://www.flipkart.com/realme-c11-2021-cool-blue-32-gb/p/itmbd856acb97c38?pid=MOBG4BEG3HG78BDG&lid=LSTMOBG4BEG3HG78BDGXS0TYG&marketplace=FLIPKART&q=Phones&store=search.flipkart.com%2Ftyy%2F4io&srno=s_1_2&otracker=search&otracker1=search&fm=organic&iid=99f454cc-7085-457c-a786-7a7ac085e04a.MOBG4BEG3HG78BDG.SEARCH&ppt=hp&ppn=homepage&ssid=xyifss3tpc0000001659368783443&qH=a7ad04a90c423648\n",
      "https://www.flipkart.com/realme-c11-2021-cool-grey-32-gb/p/itmbd856acb97c38?pid=MOBG4BEGX8QYNKGZ&lid=LSTMOBG4BEGX8QYNKGZ8JGQTA&marketplace=FLIPKART&q=Phones&store=search.flipkart.com%2Ftyy%2F4io&srno=s_1_3&otracker=search&otracker1=search&fm=organic&iid=99f454cc-7085-457c-a786-7a7ac085e04a.MOBG4BEGX8QYNKGZ.SEARCH&ppt=hp&ppn=homepage&ssid=xyifss3tpc0000001659368783443&qH=a7ad04a90c423648\n",
      "https://www.flipkart.com/cellecor-e8/p/itmeddc4807d14b6?pid=MOBGGYSMWGZKGD5Y&lid=LSTMOBGGYSMWGZKGD5YCNYBVS&marketplace=FLIPKART&q=Phones&store=search.flipkart.com%2Ftyy%2F4io&srno=s_1_4&otracker=search&otracker1=search&fm=organic&iid=en_IvpIcx7MAH6w9rRvjUl7Hquc0%2FJowfeZj9zENMAhE57esi1KcHZ%2FkdcGqpVN%2BqFTopy4RAfE5KTVUzMb47CU5A%3D%3D&ppt=hp&ppn=homepage&ssid=xyifss3tpc0000001659368783443&qH=a7ad04a90c423648\n",
      "https://www.flipkart.com/samsung-galaxy-f22-denim-blue-64-gb/p/itmce0a6baf0d54d?pid=MOBG43UGBTGGB99V&lid=LSTMOBG43UGBTGGB99VLZACSD&marketplace=FLIPKART&q=Phones&store=search.flipkart.com%2Ftyy%2F4io&srno=s_1_5&otracker=search&otracker1=search&fm=organic&iid=99f454cc-7085-457c-a786-7a7ac085e04a.MOBG43UGBTGGB99V.SEARCH&ppt=hp&ppn=homepage&ssid=xyifss3tpc0000001659368783443&qH=a7ad04a90c423648\n",
      "https://www.flipkart.com/realme-c11-2021-cool-grey-64-gb/p/itmbd856acb97c38?pid=MOBG5BCDJ68N57TH&lid=LSTMOBG5BCDJ68N57THWJHNPW&marketplace=FLIPKART&q=Phones&store=search.flipkart.com%2Ftyy%2F4io&srno=s_1_6&otracker=search&otracker1=search&fm=organic&iid=99f454cc-7085-457c-a786-7a7ac085e04a.MOBG5BCDJ68N57TH.SEARCH&ppt=hp&ppn=homepage&ssid=xyifss3tpc0000001659368783443&qH=a7ad04a90c423648\n",
      "https://www.flipkart.com/realme-c11-2021-cool-blue-64-gb/p/itmbd856acb97c38?pid=MOBG5BCDBHPYMT5B&lid=LSTMOBG5BCDBHPYMT5BR54QOY&marketplace=FLIPKART&q=Phones&store=search.flipkart.com%2Ftyy%2F4io&srno=s_1_7&otracker=search&otracker1=search&fm=organic&iid=99f454cc-7085-457c-a786-7a7ac085e04a.MOBG5BCDBHPYMT5B.SEARCH&ppt=hp&ppn=homepage&ssid=xyifss3tpc0000001659368783443&qH=a7ad04a90c423648\n",
      "https://www.flipkart.com/cellecor-e10/p/itmc13da54198b8d?pid=MOBGFH9C28E8WKJR&lid=LSTMOBGFH9C28E8WKJRPTZTLG&marketplace=FLIPKART&q=Phones&store=search.flipkart.com%2Ftyy%2F4io&srno=s_1_8&otracker=search&otracker1=search&fm=organic&iid=en_IvpIcx7MAH6w9rRvjUl7Hquc0%2FJowfeZj9zENMAhE55BSBIjAPR0WJV%2FhCPfvYbj8fzghoOWCki6EFzM1xmmYQ%3D%3D&ppt=hp&ppn=homepage&ssid=xyifss3tpc0000001659368783443&qH=a7ad04a90c423648\n",
      "https://www.flipkart.com/oppo-reno8-5g-shimmer-black-128-gb/p/itmba1bc0bf67ccc?pid=MOBGFPE5BHY8QGEH&lid=LSTMOBGFPE5BHY8QGEHQDYOMR&marketplace=FLIPKART&q=Phones&store=search.flipkart.com%2Ftyy%2F4io&srno=s_1_9&otracker=search&otracker1=search&fm=organic&iid=99f454cc-7085-457c-a786-7a7ac085e04a.MOBGFPE5BHY8QGEH.SEARCH&ppt=hp&ppn=homepage&ssid=xyifss3tpc0000001659368783443&qH=a7ad04a90c423648\n",
      "https://www.flipkart.com/infinix-hot-12-play-horizon-blue-64-gb/p/itmd9c1091d0a662?pid=MOBGE2KYCFZA7BRB&lid=LSTMOBGE2KYCFZA7BRBUNTJVL&marketplace=FLIPKART&q=Phones&store=search.flipkart.com%2Ftyy%2F4io&srno=s_1_10&otracker=search&otracker1=search&fm=organic&iid=99f454cc-7085-457c-a786-7a7ac085e04a.MOBGE2KYCFZA7BRB.SEARCH&ppt=hp&ppn=homepage&ssid=xyifss3tpc0000001659368783443&qH=a7ad04a90c423648\n",
      "https://www.flipkart.com/realme-c31-dark-green-32-gb/p/itme0f2960da9bbb?pid=MOBGCGVAXYT3EGYR&lid=LSTMOBGCGVAXYT3EGYRW8CSTQ&marketplace=FLIPKART&q=Phones&store=search.flipkart.com%2Ftyy%2F4io&srno=s_1_11&otracker=search&otracker1=search&fm=organic&iid=99f454cc-7085-457c-a786-7a7ac085e04a.MOBGCGVAXYT3EGYR.SEARCH&ppt=hp&ppn=homepage&ssid=xyifss3tpc0000001659368783443&qH=a7ad04a90c423648\n",
      "https://www.flipkart.com/cellecor-e5/p/itm06eac40addce4?pid=MOBGFHVA2EH3RP79&lid=LSTMOBGFHVA2EH3RP793NDY5O&marketplace=FLIPKART&q=Phones&store=search.flipkart.com%2Ftyy%2F4io&srno=s_1_12&otracker=search&otracker1=search&fm=organic&iid=en_IvpIcx7MAH6w9rRvjUl7Hquc0%2FJowfeZj9zENMAhE54bwCuA5aGLPuyR6xaSbpCFOIUtw04kWhBPay7l6GukaQ%3D%3D&ppt=hp&ppn=homepage&ssid=xyifss3tpc0000001659368783443&qH=a7ad04a90c423648\n",
      "https://www.flipkart.com/poco-c31-royal-blue-64-gb/p/itm19effae969b86?pid=MOBG73E7GKQK4KZP&lid=LSTMOBG73E7GKQK4KZPR5ICMK&marketplace=FLIPKART&q=Phones&store=search.flipkart.com%2Ftyy%2F4io&srno=s_1_13&otracker=search&otracker1=search&fm=organic&iid=99f454cc-7085-457c-a786-7a7ac085e04a.MOBG73E7GKQK4KZP.SEARCH&ppt=hp&ppn=homepage&ssid=xyifss3tpc0000001659368783443&qH=a7ad04a90c423648\n",
      "https://www.flipkart.com/realme-c31-light-silver-32-gb/p/itme0f2960da9bbb?pid=MOBGCGVA3DANQNQH&lid=LSTMOBGCGVA3DANQNQHPKNMV9&marketplace=FLIPKART&q=Phones&store=search.flipkart.com%2Ftyy%2F4io&srno=s_1_14&otracker=search&otracker1=search&fm=organic&iid=99f454cc-7085-457c-a786-7a7ac085e04a.MOBGCGVA3DANQNQH.SEARCH&ppt=hp&ppn=homepage&ssid=xyifss3tpc0000001659368783443&qH=a7ad04a90c423648\n",
      "https://www.flipkart.com/realme-c31-dark-green-64-gb/p/itme0f2960da9bbb?pid=MOBGCGVAZXRCZJNE&lid=LSTMOBGCGVAZXRCZJNEAEVV0M&marketplace=FLIPKART&q=Phones&store=search.flipkart.com%2Ftyy%2F4io&srno=s_1_15&otracker=search&otracker1=search&fm=organic&iid=99f454cc-7085-457c-a786-7a7ac085e04a.MOBGCGVAZXRCZJNE.SEARCH&ppt=hp&ppn=homepage&ssid=xyifss3tpc0000001659368783443&qH=a7ad04a90c423648\n",
      "https://www.flipkart.com/cellecor-e3/p/itm4f9e9b5b23940?pid=MOBGFHVVWMK2ZM4T&lid=LSTMOBGFHVVWMK2ZM4TQQ7DRP&marketplace=FLIPKART&q=Phones&store=search.flipkart.com%2Ftyy%2F4io&srno=s_1_16&otracker=search&otracker1=search&fm=organic&iid=en_IvpIcx7MAH6w9rRvjUl7Hquc0%2FJowfeZj9zENMAhE54KRx3bhtrVPsudiZUOUzJtQWj5366y5FLLjbS3P1%2B0Cw%3D%3D&ppt=hp&ppn=homepage&ssid=xyifss3tpc0000001659368783443&qH=a7ad04a90c423648\n",
      "https://www.flipkart.com/infinix-hot-12-play-daylight-green-64-gb/p/itmd9c1091d0a662?pid=MOBGE2KY6JUTSNCP&lid=LSTMOBGE2KY6JUTSNCPGWOMYY&marketplace=FLIPKART&q=Phones&store=search.flipkart.com%2Ftyy%2F4io&srno=s_1_17&otracker=search&otracker1=search&fm=organic&iid=99f454cc-7085-457c-a786-7a7ac085e04a.MOBGE2KY6JUTSNCP.SEARCH&ppt=hp&ppn=homepage&ssid=xyifss3tpc0000001659368783443&qH=a7ad04a90c423648\n",
      "https://www.flipkart.com/infinix-hot-12-play-racing-black-64-gb/p/itmd9c1091d0a662?pid=MOBGE2KYNTFHTXUW&lid=LSTMOBGE2KYNTFHTXUWDFJ0XM&marketplace=FLIPKART&q=Phones&store=search.flipkart.com%2Ftyy%2F4io&srno=s_1_18&otracker=search&otracker1=search&fm=organic&iid=99f454cc-7085-457c-a786-7a7ac085e04a.MOBGE2KYNTFHTXUW.SEARCH&ppt=hp&ppn=homepage&ssid=xyifss3tpc0000001659368783443&qH=a7ad04a90c423648\n",
      "https://www.flipkart.com/poco-c31-royal-blue-32-gb/p/itm9656ebd21e0b3?pid=MOBG73E7ZBHHQ3RB&lid=LSTMOBG73E7ZBHHQ3RBDYSPVO&marketplace=FLIPKART&q=Phones&store=search.flipkart.com%2Ftyy%2F4io&srno=s_1_19&otracker=search&otracker1=search&fm=organic&iid=99f454cc-7085-457c-a786-7a7ac085e04a.MOBG73E7ZBHHQ3RB.SEARCH&ppt=hp&ppn=homepage&ssid=xyifss3tpc0000001659368783443&qH=a7ad04a90c423648\n",
      "https://www.flipkart.com/cellecor-e9/p/itmabfdb7b224468?pid=MOBGGFXBDXMYPJEA&lid=LSTMOBGGFXBDXMYPJEABULNCJ&marketplace=FLIPKART&q=Phones&store=search.flipkart.com%2Ftyy%2F4io&srno=s_1_20&otracker=search&otracker1=search&fm=organic&iid=en_IvpIcx7MAH6w9rRvjUl7Hquc0%2FJowfeZj9zENMAhE55aWyy2UOcaQa%2BlmQhlaK8sHOSCwEeDGIBnZ%2FXiyndnqg%3D%3D&ppt=hp&ppn=homepage&ssid=xyifss3tpc0000001659368783443&qH=a7ad04a90c423648\n",
      "https://www.flipkart.com/oppo-reno8-5g-shimmer-gold-128-gb/p/itmba1bc0bf67ccc?pid=MOBGFPE5ZNPQQWXV&lid=LSTMOBGFPE5ZNPQQWXVA0ROSN&marketplace=FLIPKART&q=Phones&store=search.flipkart.com%2Ftyy%2F4io&srno=s_1_21&otracker=search&otracker1=search&fm=organic&iid=99f454cc-7085-457c-a786-7a7ac085e04a.MOBGFPE5ZNPQQWXV.SEARCH&ppt=hp&ppn=homepage&ssid=xyifss3tpc0000001659368783443&qH=a7ad04a90c423648\n"
     ]
    },
    {
     "name": "stdout",
     "output_type": "stream",
     "text": [
      "https://www.flipkart.com/nothing-phone-1-black-256-gb/p/itmeea53a564de47?pid=MOBGCYGPXKY9H62J&lid=LSTMOBGCYGPXKY9H62JOABLMR&marketplace=FLIPKART&q=Phones&store=search.flipkart.com%2Ftyy%2F4io&srno=s_1_22&otracker=search&otracker1=search&fm=organic&iid=99f454cc-7085-457c-a786-7a7ac085e04a.MOBGCYGPXKY9H62J.SEARCH&ppt=hp&ppn=homepage&ssid=xyifss3tpc0000001659368783443&qH=a7ad04a90c423648\n",
      "https://www.flipkart.com/realme-c31-light-silver-64-gb/p/itme0f2960da9bbb?pid=MOBGCGVAGUHQ9HNJ&lid=LSTMOBGCGVAGUHQ9HNJSTKURO&marketplace=FLIPKART&q=Phones&store=search.flipkart.com%2Ftyy%2F4io&srno=s_1_23&otracker=search&otracker1=search&fm=organic&iid=99f454cc-7085-457c-a786-7a7ac085e04a.MOBGCGVAGUHQ9HNJ.SEARCH&ppt=hp&ppn=homepage&ssid=xyifss3tpc0000001659368783443&qH=a7ad04a90c423648\n",
      "https://www.flipkart.com/cellecor-e1/p/itma4bea1645d076?pid=MOBGDYUKEUNAGUTV&lid=LSTMOBGDYUKEUNAGUTVDZEL12&marketplace=FLIPKART&q=Phones&store=search.flipkart.com%2Ftyy%2F4io&srno=s_1_24&otracker=search&otracker1=search&fm=organic&iid=en_IvpIcx7MAH6w9rRvjUl7Hquc0%2FJowfeZj9zENMAhE554Jd7DPx9d6sWSydAR6rMo%2Bwn3E4xnSQSW8KDEzq5NYg%3D%3D&ppt=hp&ppn=homepage&ssid=xyifss3tpc0000001659368783443&qH=a7ad04a90c423648\n"
     ]
    }
   ],
   "source": [
    "#creating empty lists\n",
    "phone_review_comments = []\n",
    "phone_ratings = []\n",
    "for each in urls:\n",
    "    # Getting the particular page link\n",
    "    try:\n",
    "        driver.get(each)\n",
    "        print(each)\n",
    "        try:\n",
    "            plus_reviews_bar = driver.find_element_by_xpath('//div[@class=\"col JOpGWq\"]/a').get_attribute('href')\n",
    "            driver.get(plus_reviews_bar)\n",
    "        except Exception as ex:\n",
    "            pass\n",
    "        for i in range(1,150):\n",
    "            try:\n",
    "                parent_tag = driver.find_element_by_xpath(\"//div[@class='_1YokD2 _3Mn1Gg col-9-12']\")\n",
    "                child_tags = parent_tag.find_elements_by_xpath(\"//div/div[@class='_27M-vq']\")\n",
    "                for i in child_tags:\n",
    "                    phone_review_comments.append(i.find_element_by_class_name('t-ZTKy').text)\n",
    "                    exct_rtng = i.text[0]\n",
    "\n",
    "                    if exct_rtng.endswith('.5'):\n",
    "                        exct_rtng = str(int(exct_rtng)+0.5)\n",
    "                        phone_ratings.append(exct_rtng)\n",
    "                    phone_ratings.append(exct_rtng)\n",
    "            except Exception as ex:\n",
    "                pass\n",
    "            try:\n",
    "                driver.find_element_by_xpath(\"/html/body/div[1]/div/div[3]/div/div/div[2]/div[13]/div/div/nav/a[8]/span\").click()\n",
    "            except:\n",
    "                try:\n",
    "                    driver.find_element_by_xpath(\"/html/body/div[1]/div/div[3]/div/div/div[2]/div[13]/div/div/nav/a[9]/span\").click()\n",
    "                except Exception as ex:\n",
    "                    pass\n",
    "    except NoSuchElementException:\n",
    "        break\n",
    "\n",
    "driver.close()"
   ]
  },
  {
   "cell_type": "code",
   "execution_count": 48,
   "id": "0634a241",
   "metadata": {},
   "outputs": [
    {
     "data": {
      "text/plain": [
       "25330"
      ]
     },
     "execution_count": 48,
     "metadata": {},
     "output_type": "execute_result"
    }
   ],
   "source": [
    "len(phone_ratings)"
   ]
  },
  {
   "cell_type": "code",
   "execution_count": 49,
   "id": "0c088ac0",
   "metadata": {},
   "outputs": [
    {
     "data": {
      "text/plain": [
       "25330"
      ]
     },
     "execution_count": 49,
     "metadata": {},
     "output_type": "execute_result"
    }
   ],
   "source": [
    "len(phone_review_comments)"
   ]
  },
  {
   "cell_type": "code",
   "execution_count": 51,
   "id": "0e59cdf9",
   "metadata": {},
   "outputs": [],
   "source": [
    "flipkart_lappy_df = pd.DataFrame({'Product_description':flip_cart_lappy_comments,'Product_Rating': flip_cart_lappy_ratings, 'Type_of_product':'Laptop'})\n",
    "flipkart_phone_df = pd.DataFrame({'Product_description':phone_review_comments,'Product_Rating': phone_ratings, 'Type_of_product':'Phone'})"
   ]
  },
  {
   "cell_type": "code",
   "execution_count": 52,
   "id": "48c83af7",
   "metadata": {},
   "outputs": [
    {
     "data": {
      "text/html": [
       "<div>\n",
       "<style scoped>\n",
       "    .dataframe tbody tr th:only-of-type {\n",
       "        vertical-align: middle;\n",
       "    }\n",
       "\n",
       "    .dataframe tbody tr th {\n",
       "        vertical-align: top;\n",
       "    }\n",
       "\n",
       "    .dataframe thead th {\n",
       "        text-align: right;\n",
       "    }\n",
       "</style>\n",
       "<table border=\"1\" class=\"dataframe\">\n",
       "  <thead>\n",
       "    <tr style=\"text-align: right;\">\n",
       "      <th></th>\n",
       "      <th>Product_description</th>\n",
       "      <th>Product_Rating</th>\n",
       "      <th>Type_of_product</th>\n",
       "    </tr>\n",
       "  </thead>\n",
       "  <tbody>\n",
       "    <tr>\n",
       "      <th>0</th>\n",
       "      <td>After 7 days of usage:\\nThe laptop is quite li...</td>\n",
       "      <td>4</td>\n",
       "      <td>Laptop</td>\n",
       "    </tr>\n",
       "    <tr>\n",
       "      <th>1</th>\n",
       "      <td>1.Performance is best &amp; better for this price ...</td>\n",
       "      <td>5</td>\n",
       "      <td>Laptop</td>\n",
       "    </tr>\n",
       "    <tr>\n",
       "      <th>2</th>\n",
       "      <td>Nice product with all new feature at this pric...</td>\n",
       "      <td>4</td>\n",
       "      <td>Laptop</td>\n",
       "    </tr>\n",
       "    <tr>\n",
       "      <th>3</th>\n",
       "      <td>Every thing is gud about the laptop the cons t...</td>\n",
       "      <td>5</td>\n",
       "      <td>Laptop</td>\n",
       "    </tr>\n",
       "    <tr>\n",
       "      <th>4</th>\n",
       "      <td>Working really well, satisfied with the produc...</td>\n",
       "      <td>5</td>\n",
       "      <td>Laptop</td>\n",
       "    </tr>\n",
       "    <tr>\n",
       "      <th>...</th>\n",
       "      <td>...</td>\n",
       "      <td>...</td>\n",
       "      <td>...</td>\n",
       "    </tr>\n",
       "    <tr>\n",
       "      <th>25325</th>\n",
       "      <td>Good performance and good value.</td>\n",
       "      <td>5</td>\n",
       "      <td>Phone</td>\n",
       "    </tr>\n",
       "    <tr>\n",
       "      <th>25326</th>\n",
       "      <td>Very good</td>\n",
       "      <td>5</td>\n",
       "      <td>Phone</td>\n",
       "    </tr>\n",
       "    <tr>\n",
       "      <th>25327</th>\n",
       "      <td>Performance best of part in features, money pr...</td>\n",
       "      <td>5</td>\n",
       "      <td>Phone</td>\n",
       "    </tr>\n",
       "    <tr>\n",
       "      <th>25328</th>\n",
       "      <td>Very good condition mobile</td>\n",
       "      <td>3</td>\n",
       "      <td>Phone</td>\n",
       "    </tr>\n",
       "    <tr>\n",
       "      <th>25329</th>\n",
       "      <td>Design super quality low price best phone</td>\n",
       "      <td>4</td>\n",
       "      <td>Phone</td>\n",
       "    </tr>\n",
       "  </tbody>\n",
       "</table>\n",
       "<p>57389 rows × 3 columns</p>\n",
       "</div>"
      ],
      "text/plain": [
       "                                     Product_description Product_Rating  \\\n",
       "0      After 7 days of usage:\\nThe laptop is quite li...              4   \n",
       "1      1.Performance is best & better for this price ...              5   \n",
       "2      Nice product with all new feature at this pric...              4   \n",
       "3      Every thing is gud about the laptop the cons t...              5   \n",
       "4      Working really well, satisfied with the produc...              5   \n",
       "...                                                  ...            ...   \n",
       "25325                   Good performance and good value.              5   \n",
       "25326                                          Very good              5   \n",
       "25327  Performance best of part in features, money pr...              5   \n",
       "25328                         Very good condition mobile              3   \n",
       "25329          Design super quality low price best phone              4   \n",
       "\n",
       "      Type_of_product  \n",
       "0              Laptop  \n",
       "1              Laptop  \n",
       "2              Laptop  \n",
       "3              Laptop  \n",
       "4              Laptop  \n",
       "...               ...  \n",
       "25325           Phone  \n",
       "25326           Phone  \n",
       "25327           Phone  \n",
       "25328           Phone  \n",
       "25329           Phone  \n",
       "\n",
       "[57389 rows x 3 columns]"
      ]
     },
     "execution_count": 52,
     "metadata": {},
     "output_type": "execute_result"
    }
   ],
   "source": [
    "final_df = pd.concat([flipkart_lappy_df,flipkart_phone_df])\n",
    "final_df"
   ]
  },
  {
   "cell_type": "code",
   "execution_count": 53,
   "id": "68feb68c",
   "metadata": {},
   "outputs": [],
   "source": [
    "final_df.to_csv('final_e_commerce_ratings.csv')"
   ]
  },
  {
   "cell_type": "markdown",
   "id": "e2e8eebd",
   "metadata": {},
   "source": [
    "### Thank You\n",
    "### Akhil Reddy"
   ]
  },
  {
   "cell_type": "code",
   "execution_count": null,
   "id": "9a5bc36e",
   "metadata": {},
   "outputs": [],
   "source": []
  }
 ],
 "metadata": {
  "kernelspec": {
   "display_name": "Python 3 (ipykernel)",
   "language": "python",
   "name": "python3"
  },
  "language_info": {
   "codemirror_mode": {
    "name": "ipython",
    "version": 3
   },
   "file_extension": ".py",
   "mimetype": "text/x-python",
   "name": "python",
   "nbconvert_exporter": "python",
   "pygments_lexer": "ipython3",
   "version": "3.9.12"
  }
 },
 "nbformat": 4,
 "nbformat_minor": 5
}
